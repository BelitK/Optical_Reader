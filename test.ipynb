{
 "cells": [
  {
   "cell_type": "code",
   "execution_count": 64,
   "id": "926f0969",
   "metadata": {},
   "outputs": [],
   "source": [
    "import cv2\n",
    "import numpy as np\n",
    "import argparse\n",
    "\n",
    "\n",
    "# Set threshold level\n",
    "\n",
    "\n",
    "#image = [coords[0][0]:coords[0][1],coords[-1][0]:coords[-1][1]]\n"
   ]
  },
  {
   "cell_type": "code",
   "execution_count": 65,
   "id": "984ef6d3",
   "metadata": {},
   "outputs": [
    {
     "name": "stderr",
     "output_type": "stream",
     "text": [
      "usage: ipykernel_launcher.py [-h] [-i IMAGE]\n",
      "ipykernel_launcher.py: error: unrecognized arguments: -f /home/bbk/.local/share/jupyter/runtime/kernel-25d5975d-d000-4ba0-872a-8070798cc1b6.json\n"
     ]
    },
    {
     "ename": "SystemExit",
     "evalue": "2",
     "output_type": "error",
     "traceback": [
      "An exception has occurred, use %tb to see the full traceback.\n",
      "\u001b[0;31mSystemExit\u001b[0m\u001b[0;31m:\u001b[0m 2\n"
     ]
    },
    {
     "name": "stderr",
     "output_type": "stream",
     "text": [
      "/home/bbk/anaconda3/envs/WebEye/lib/python3.8/site-packages/IPython/core/interactiveshell.py:3449: UserWarning: To exit: use 'exit', 'quit', or Ctrl-D.\n",
      "  warn(\"To exit: use 'exit', 'quit', or Ctrl-D.\", stacklevel=1)\n"
     ]
    }
   ],
   "source": [
    "ap = argparse.ArgumentParser()\n",
    "ap.add_argument(\"-i\", \"--image\", help = \"path to the image file\")\n",
    "args = vars(ap.parse_args())\n",
    "# load the image\n",
    "image = cv2.imread(args[\"image\"])\n",
    "gray = cv2.cvtColor(image, cv2.COLOR_BGR2GRAY)"
   ]
  },
  {
   "cell_type": "code",
   "execution_count": 55,
   "id": "2ee9afb2",
   "metadata": {},
   "outputs": [],
   "source": [
    "threshold_level = 55\n",
    "\n",
    "# Find coordinates of all pixels below threshold\n",
    "coords = np.column_stack(np.where(gray < threshold_level))"
   ]
  },
  {
   "cell_type": "code",
   "execution_count": 56,
   "id": "8523c77f",
   "metadata": {},
   "outputs": [
    {
     "data": {
      "text/plain": [
       "array([[333, 448],\n",
       "       [334, 146],\n",
       "       [334, 147],\n",
       "       ...,\n",
       "       [673, 448],\n",
       "       [673, 449],\n",
       "       [673, 450]])"
      ]
     },
     "execution_count": 56,
     "metadata": {},
     "output_type": "execute_result"
    }
   ],
   "source": [
    "coords"
   ]
  },
  {
   "cell_type": "code",
   "execution_count": 57,
   "id": "2dedbf15",
   "metadata": {},
   "outputs": [
    {
     "data": {
      "text/plain": [
       "(334, 146, 673, 450)"
      ]
     },
     "execution_count": 57,
     "metadata": {},
     "output_type": "execute_result"
    }
   ],
   "source": [
    "x1,y1=coords[1]\n",
    "x2,y2= coords[-1]\n",
    "x1,y1,x2,y2"
   ]
  },
  {
   "cell_type": "code",
   "execution_count": 59,
   "id": "6f76c3d6",
   "metadata": {},
   "outputs": [
    {
     "name": "stdout",
     "output_type": "stream",
     "text": [
      "[[333 448]\n",
      " [334 146]\n",
      " [334 147]\n",
      " ...\n",
      " [673 448]\n",
      " [673 449]\n",
      " [673 450]]\n"
     ]
    }
   ],
   "source": [
    "print(coords)\n",
    "\n",
    "# Create mask of all pixels lower than threshold level\n",
    "mask = gray < threshold_level\n",
    "\n",
    "# Color the pixels in the mask\n",
    "#image[mask] = (204, 119, 250)"
   ]
  },
  {
   "cell_type": "code",
   "execution_count": null,
   "id": "ca515031",
   "metadata": {},
   "outputs": [],
   "source": []
  },
  {
   "cell_type": "code",
   "execution_count": 60,
   "id": "892db843",
   "metadata": {},
   "outputs": [],
   "source": [
    "cropped_image = image[x1:x2, y1:y2]"
   ]
  },
  {
   "cell_type": "code",
   "execution_count": 61,
   "id": "e7b6db5f",
   "metadata": {},
   "outputs": [],
   "source": [
    "cv2.imshow('image', cropped_image)\n",
    "cv2.waitKey(0)\n",
    "cv2.destroyAllWindows()"
   ]
  },
  {
   "cell_type": "code",
   "execution_count": null,
   "id": "f9bc6946",
   "metadata": {},
   "outputs": [],
   "source": []
  }
 ],
 "metadata": {
  "kernelspec": {
   "display_name": "Python 3 (ipykernel)",
   "language": "python",
   "name": "python3"
  },
  "language_info": {
   "codemirror_mode": {
    "name": "ipython",
    "version": 3
   },
   "file_extension": ".py",
   "mimetype": "text/x-python",
   "name": "python",
   "nbconvert_exporter": "python",
   "pygments_lexer": "ipython3",
   "version": "3.8.8"
  }
 },
 "nbformat": 4,
 "nbformat_minor": 5
}
