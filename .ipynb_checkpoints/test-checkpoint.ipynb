{
 "cells": [
  {
   "cell_type": "code",
   "execution_count": 52,
   "id": "737ef1da",
   "metadata": {},
   "outputs": [],
   "source": [
    "import cv2\n",
    "import numpy as np\n",
    "\n",
    "\n",
    "# Set threshold level\n",
    "\n",
    "\n",
    "#image = [coords[0][0]:coords[0][1],coords[-1][0]:coords[-1][1]]\n"
   ]
  },
  {
   "cell_type": "code",
   "execution_count": 54,
   "id": "a3af5458",
   "metadata": {},
   "outputs": [],
   "source": [
    "image = cv2.imread('test.jpg')\n",
    "gray = cv2.cvtColor(image, cv2.COLOR_BGR2GRAY)"
   ]
  },
  {
   "cell_type": "code",
   "execution_count": 55,
   "id": "59a911d3",
   "metadata": {},
   "outputs": [],
   "source": [
    "threshold_level = 55\n",
    "\n",
    "# Find coordinates of all pixels below threshold\n",
    "coords = np.column_stack(np.where(gray < threshold_level))"
   ]
  },
  {
   "cell_type": "code",
   "execution_count": 56,
   "id": "f9fc271a",
   "metadata": {},
   "outputs": [
    {
     "data": {
      "text/plain": [
       "array([[333, 448],\n",
       "       [334, 146],\n",
       "       [334, 147],\n",
       "       ...,\n",
       "       [673, 448],\n",
       "       [673, 449],\n",
       "       [673, 450]])"
      ]
     },
     "execution_count": 56,
     "metadata": {},
     "output_type": "execute_result"
    }
   ],
   "source": [
    "coords"
   ]
  },
  {
   "cell_type": "code",
   "execution_count": 57,
   "id": "e7a200f3",
   "metadata": {},
   "outputs": [
    {
     "data": {
      "text/plain": [
       "(334, 146, 673, 450)"
      ]
     },
     "execution_count": 57,
     "metadata": {},
     "output_type": "execute_result"
    }
   ],
   "source": [
    "x1,y1=coords[1]\n",
    "x2,y2= coords[-1]\n",
    "x1,y1,x2,y2"
   ]
  },
  {
   "cell_type": "code",
   "execution_count": 59,
   "id": "39f2ef0a",
   "metadata": {},
   "outputs": [
    {
     "name": "stdout",
     "output_type": "stream",
     "text": [
      "[[333 448]\n",
      " [334 146]\n",
      " [334 147]\n",
      " ...\n",
      " [673 448]\n",
      " [673 449]\n",
      " [673 450]]\n"
     ]
    }
   ],
   "source": [
    "print(coords)\n",
    "\n",
    "# Create mask of all pixels lower than threshold level\n",
    "mask = gray < threshold_level\n",
    "\n",
    "# Color the pixels in the mask\n",
    "#image[mask] = (204, 119, 250)"
   ]
  },
  {
   "cell_type": "code",
   "execution_count": null,
   "id": "b1752c9e",
   "metadata": {},
   "outputs": [],
   "source": []
  },
  {
   "cell_type": "code",
   "execution_count": 60,
   "id": "3ecf5c1f",
   "metadata": {},
   "outputs": [],
   "source": [
    "cropped_image = image[x1:x2, y1:y2]"
   ]
  },
  {
   "cell_type": "code",
   "execution_count": 61,
   "id": "ce7d9b08",
   "metadata": {},
   "outputs": [],
   "source": [
    "cv2.imshow('image', cropped_image)\n",
    "cv2.waitKey(0)\n",
    "cv2.destroyAllWindows()"
   ]
  },
  {
   "cell_type": "code",
   "execution_count": null,
   "id": "1323bf76",
   "metadata": {},
   "outputs": [],
   "source": []
  }
 ],
 "metadata": {
  "kernelspec": {
   "display_name": "Python 3 (ipykernel)",
   "language": "python",
   "name": "python3"
  },
  "language_info": {
   "codemirror_mode": {
    "name": "ipython",
    "version": 3
   },
   "file_extension": ".py",
   "mimetype": "text/x-python",
   "name": "python",
   "nbconvert_exporter": "python",
   "pygments_lexer": "ipython3",
   "version": "3.8.8"
  }
 },
 "nbformat": 4,
 "nbformat_minor": 5
}
